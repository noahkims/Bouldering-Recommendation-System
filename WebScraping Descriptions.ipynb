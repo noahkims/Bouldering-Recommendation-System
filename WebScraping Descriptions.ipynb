{
 "cells": [
  {
   "cell_type": "code",
   "execution_count": 87,
   "id": "54af39ca",
   "metadata": {},
   "outputs": [],
   "source": [
    "import pandas as pd\n",
    "import numpy as np\n",
    "import csv\n",
    "from bs4 import BeautifulSoup\n",
    "import requests"
   ]
  },
  {
   "cell_type": "markdown",
   "id": "2d035aef",
   "metadata": {},
   "source": [
    "# Web Scraping\n",
    "\n",
    "#### This section focuses on collecting data from the csv provided by mountain project.\n",
    "#### Notes to consider:\n",
    "The csv is pre-filtered with Boulders in Joshua Tree Bouldering, 1.5+ Stars, sorted first by popularity and then by difficulty"
   ]
  },
  {
   "cell_type": "code",
   "execution_count": 88,
   "id": "f0b7dad4",
   "metadata": {},
   "outputs": [],
   "source": [
    "routes = pd.read_csv(\"route-finder.csv\")"
   ]
  },
  {
   "cell_type": "code",
   "execution_count": 90,
   "id": "8843f44b",
   "metadata": {},
   "outputs": [
    {
     "name": "stdout",
     "output_type": "stream",
     "text": [
      "done\n"
     ]
    }
   ],
   "source": [
    "# Testing scraping for descriptions, can easily be scaled.\n",
    "\n",
    "# NOTE: This parsing relies on the assumption that the first \"fr-view\" class is always the description\n",
    "# This can be expanded upon later in the processes while refining data collection\n",
    "\n",
    "test_routes = routes[:20].copy()\n",
    "\n",
    "test_descriptions = []\n",
    "\n",
    "for index, row in test_routes.iterrows():\n",
    "    route_link = row['URL']\n",
    "    response = requests.get(route_link)\n",
    "    soup = BeautifulSoup(response.content, \"html.parser\")\n",
    "    route_description = soup.find(\"div\", {\"class\": \"fr-view\"})\n",
    "    test_descriptions.append(str(route_description))\n",
    "    \n",
    "test_routes['Descriptions'] = test_descriptions\n",
    "\n",
    "print(\"done\")"
   ]
  },
  {
   "cell_type": "code",
   "execution_count": 100,
   "id": "89e49c19",
   "metadata": {},
   "outputs": [
    {
     "data": {
      "text/plain": [
       "'<div class=\"fr-view\">Behind Cyclops rock is this awesome boulder problem. A sit start in a cave starts you out 10\\' of finger crack through the roof in the cave, to a tight-hands swing around the lip and then fingers, off fingers and tight hands lead to a funky top out that is for many the crux.</div>'"
      ]
     },
     "execution_count": 100,
     "metadata": {},
     "output_type": "execute_result"
    }
   ],
   "source": [
    "test_string = test_routes['Descriptions'][:5][2]\n",
    "test_string"
   ]
  },
  {
   "cell_type": "markdown",
   "id": "aba3d1e4",
   "metadata": {},
   "source": [
    "# Pre-processing\n",
    "#### Here are the steps we plan on implementing for cleaning our \"Descriptions\"\n",
    "1. Lowercasing\n",
    "2. Cleaning\n",
    "3. Splitting\n",
    "4. Stopwords\n",
    "5. Stemming"
   ]
  },
  {
   "cell_type": "code",
   "execution_count": 134,
   "id": "9d8d0d4e",
   "metadata": {},
   "outputs": [],
   "source": [
    "import multiprocessing as mp\n",
    "import nltk\n",
    "import string\n",
    "import re\n",
    "from nltk.corpus import stopwords\n",
    "from nltk.stem import PorterStemmer"
   ]
  },
  {
   "cell_type": "code",
   "execution_count": 148,
   "id": "b8e34bc1",
   "metadata": {},
   "outputs": [],
   "source": [
    "# This takes a string and returns a cleaned list of words.\n",
    "\n",
    "\n",
    "def preprocess_descriptions(text):\n",
    "    \n",
    "    # lowercasing\n",
    "    lowercased_text = text.lower()\n",
    "    \n",
    "    # Cleaning - removing punctuation and html notation\n",
    "    removed_html_text = re.sub(\"\\<.*?\\>\", \"\", lowercased_text)\n",
    "    removed_html_text = re.sub(\"\\xa0\", \"\", removed_html_text)\n",
    "    removed_punctuation = removed_html_text.translate(str.maketrans('', '', string.punctuation))\n",
    "    \n",
    "    removed_white_space = removed_punctuation.strip()\n",
    "    \n",
    "    # Splitting\n",
    "    split_text = removed_white_space.split()\n",
    "    \n",
    "    # Stopwords\n",
    "    stop_words = set(stopwords.words('english'))\n",
    "    stopwords_removed = [word for word in split_text if word not in stop_words]\n",
    "    cleaned_string = stopwords_removed\n",
    "    # Stemming\n",
    "    ps = PorterStemmer()\n",
    "    stemmed_text = [ps.stem(word) for word in stopwords_removed]\n",
    "    cleaned_string = stemmed_text\n",
    "\n",
    "    \n",
    "    return cleaned_description"
   ]
  },
  {
   "cell_type": "code",
   "execution_count": 146,
   "id": "abfd29cc",
   "metadata": {},
   "outputs": [
    {
     "data": {
      "text/plain": [
       "['behind',\n",
       " 'cyclop',\n",
       " 'rock',\n",
       " 'awesom',\n",
       " 'boulder',\n",
       " 'problem',\n",
       " 'sit',\n",
       " 'start',\n",
       " 'cave',\n",
       " 'start',\n",
       " '10',\n",
       " 'finger',\n",
       " 'crack',\n",
       " 'roof',\n",
       " 'cave',\n",
       " 'tighthand',\n",
       " 'swing',\n",
       " 'around',\n",
       " 'lip',\n",
       " 'finger',\n",
       " 'finger',\n",
       " 'tight',\n",
       " 'hand',\n",
       " 'lead',\n",
       " 'funki',\n",
       " 'top',\n",
       " 'mani',\n",
       " 'crux']"
      ]
     },
     "execution_count": 146,
     "metadata": {},
     "output_type": "execute_result"
    }
   ],
   "source": [
    "preprocess_descriptions(test_string)\n"
   ]
  }
 ],
 "metadata": {
  "kernelspec": {
   "display_name": "Python 3",
   "language": "python",
   "name": "python3"
  },
  "language_info": {
   "codemirror_mode": {
    "name": "ipython",
    "version": 3
   },
   "file_extension": ".py",
   "mimetype": "text/x-python",
   "name": "python",
   "nbconvert_exporter": "python",
   "pygments_lexer": "ipython3",
   "version": "3.8.8"
  }
 },
 "nbformat": 4,
 "nbformat_minor": 5
}
