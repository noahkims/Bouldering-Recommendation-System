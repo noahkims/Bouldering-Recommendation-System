{
 "cells": [
  {
   "cell_type": "markdown",
   "id": "d0fe1394",
   "metadata": {},
   "source": [
    "## Cosine Similarity\n",
    "\n",
    "Taking a look at this article (https://www.newscatcherapi.com/blog/ultimate-guide-to-text-similarity-with-python), it seems that consine similarity is a good choice for comparing our route descriptions.\n",
    "\n",
    "Since the length of our descriptions are varying, cosine similarity seems to be the least sensitive to text length.\n",
    "Additionally, Jaccard Index relies on specific vocabulary being similar, and Euclidean Distance is more sensitive to repetition of words.\n",
    "\n",
    "Since we have our descriptions as a set of strings, "
   ]
  },
  {
   "cell_type": "code",
   "execution_count": 2,
   "id": "d32f4608",
   "metadata": {},
   "outputs": [],
   "source": [
    "import pandas as pd\n",
    "import numpy as np\n",
    "import csv\n",
    "import ast"
   ]
  },
  {
   "cell_type": "code",
   "execution_count": 24,
   "id": "026f3172",
   "metadata": {},
   "outputs": [
    {
     "data": {
      "text/html": [
       "<div>\n",
       "<style scoped>\n",
       "    .dataframe tbody tr th:only-of-type {\n",
       "        vertical-align: middle;\n",
       "    }\n",
       "\n",
       "    .dataframe tbody tr th {\n",
       "        vertical-align: top;\n",
       "    }\n",
       "\n",
       "    .dataframe thead th {\n",
       "        text-align: right;\n",
       "    }\n",
       "</style>\n",
       "<table border=\"1\" class=\"dataframe\">\n",
       "  <thead>\n",
       "    <tr style=\"text-align: right;\">\n",
       "      <th></th>\n",
       "      <th>Route</th>\n",
       "      <th>Location</th>\n",
       "      <th>URL</th>\n",
       "      <th>Avg Stars</th>\n",
       "      <th>Your Stars</th>\n",
       "      <th>Route Type</th>\n",
       "      <th>Rating</th>\n",
       "      <th>Pitches</th>\n",
       "      <th>Length</th>\n",
       "      <th>Area Latitude</th>\n",
       "      <th>Area Longitude</th>\n",
       "      <th>Descriptions</th>\n",
       "    </tr>\n",
       "  </thead>\n",
       "  <tbody>\n",
       "    <tr>\n",
       "      <th>0</th>\n",
       "      <td>White Rastafarian</td>\n",
       "      <td>White Rastafarian Boulder &gt; Outback Bouldering...</td>\n",
       "      <td>https://www.mountainproject.com/route/10572259...</td>\n",
       "      <td>3.9</td>\n",
       "      <td>-1</td>\n",
       "      <td>Boulder</td>\n",
       "      <td>V2 R</td>\n",
       "      <td>1</td>\n",
       "      <td>20.0</td>\n",
       "      <td>34.02073</td>\n",
       "      <td>-116.16212</td>\n",
       "      <td>[problem, locat, larg, boulder, southeast, end...</td>\n",
       "    </tr>\n",
       "    <tr>\n",
       "      <th>1</th>\n",
       "      <td>Slashface</td>\n",
       "      <td>Slash Boulder &gt; Western Belt &gt; Geology Tour Ro...</td>\n",
       "      <td>https://www.mountainproject.com/route/10572275...</td>\n",
       "      <td>3.9</td>\n",
       "      <td>-1</td>\n",
       "      <td>Boulder</td>\n",
       "      <td>V3 R</td>\n",
       "      <td>1</td>\n",
       "      <td>25.0</td>\n",
       "      <td>33.95344</td>\n",
       "      <td>-116.08706</td>\n",
       "      <td>[anoth, joshua, tree, finest, boulder, problem...</td>\n",
       "    </tr>\n",
       "    <tr>\n",
       "      <th>2</th>\n",
       "      <td>Pigpen</td>\n",
       "      <td>Pigpen Boulder &gt; Manx Boulders Circuit &gt; Manx/...</td>\n",
       "      <td>https://www.mountainproject.com/route/10572299...</td>\n",
       "      <td>3.9</td>\n",
       "      <td>-1</td>\n",
       "      <td>Boulder</td>\n",
       "      <td>V4</td>\n",
       "      <td>1</td>\n",
       "      <td>10.0</td>\n",
       "      <td>34.01530</td>\n",
       "      <td>-116.15811</td>\n",
       "      <td>[behind, cyclop, rock, awesom, boulder, proble...</td>\n",
       "    </tr>\n",
       "  </tbody>\n",
       "</table>\n",
       "</div>"
      ],
      "text/plain": [
       "               Route                                           Location  \\\n",
       "0  White Rastafarian  White Rastafarian Boulder > Outback Bouldering...   \n",
       "1          Slashface  Slash Boulder > Western Belt > Geology Tour Ro...   \n",
       "2             Pigpen  Pigpen Boulder > Manx Boulders Circuit > Manx/...   \n",
       "\n",
       "                                                 URL  Avg Stars  Your Stars  \\\n",
       "0  https://www.mountainproject.com/route/10572259...        3.9          -1   \n",
       "1  https://www.mountainproject.com/route/10572275...        3.9          -1   \n",
       "2  https://www.mountainproject.com/route/10572299...        3.9          -1   \n",
       "\n",
       "  Route Type Rating  Pitches  Length  Area Latitude  Area Longitude  \\\n",
       "0    Boulder   V2 R        1    20.0       34.02073      -116.16212   \n",
       "1    Boulder   V3 R        1    25.0       33.95344      -116.08706   \n",
       "2    Boulder     V4        1    10.0       34.01530      -116.15811   \n",
       "\n",
       "                                        Descriptions  \n",
       "0  [problem, locat, larg, boulder, southeast, end...  \n",
       "1  [anoth, joshua, tree, finest, boulder, problem...  \n",
       "2  [behind, cyclop, rock, awesom, boulder, proble...  "
      ]
     },
     "execution_count": 24,
     "metadata": {},
     "output_type": "execute_result"
    }
   ],
   "source": [
    "# Converting back from CSV to a usable set\n",
    "df = pd.read_csv('Routes_With_Cleaned_Descriptions.csv')\n",
    "df['Descriptions'] = df['Descriptions'].apply(ast.literal_eval)\n",
    "df.head(3)"
   ]
  },
  {
   "cell_type": "code",
   "execution_count": 25,
   "id": "2589046e",
   "metadata": {},
   "outputs": [],
   "source": [
    "# Lets create a Bag of Words vector for each row, or a matrix for the whole dataset.\n",
    "\n",
    "# Initialize an empty set for the vocabulary\n",
    "vocabulary = set()\n",
    "\n",
    "# Build the vocabulary\n",
    "for sentence in df['Descriptions']:\n",
    "    vocabulary.update(sentence)\n",
    "\n",
    "# Convert to a sorted list\n",
    "vocabulary = sorted(list(vocabulary))"
   ]
  },
  {
   "cell_type": "code",
   "execution_count": 5,
   "id": "73cf2e4f",
   "metadata": {},
   "outputs": [],
   "source": [
    "def create_bow_vector(sentence, vocab):\n",
    "    vector = [0] * len(vocab)  # Initialize a vector of zeros\n",
    "    for word in sentence:\n",
    "        if word in vocab:\n",
    "            idx = vocab.index(word)  # Find the index of the word in the vocabulary\n",
    "            vector[idx] += 1  # Increment the count at that index\n",
    "    return vector\n",
    "\n",
    "bow_matrix = [create_bow_vector(sentence, vocabulary) for sentence in df['Descriptions']]"
   ]
  },
  {
   "cell_type": "code",
   "execution_count": 6,
   "id": "30a4fd4c",
   "metadata": {},
   "outputs": [
    {
     "data": {
      "text/plain": [
       "array([[1.        , 0.37511724, 0.12667365, ..., 0.33108771, 0.        ,\n",
       "        0.03904344],\n",
       "       [0.37511724, 1.        , 0.20780973, ..., 0.22065615, 0.        ,\n",
       "        0.08006408],\n",
       "       [0.12667365, 0.20780973, 1.        , ..., 0.15475893, 0.08111071,\n",
       "        0.08111071],\n",
       "       ...,\n",
       "       [0.33108771, 0.22065615, 0.15475893, ..., 1.        , 0.05299989,\n",
       "        0.05299989],\n",
       "       [0.        , 0.        , 0.08111071, ..., 0.05299989, 1.        ,\n",
       "        0.125     ],\n",
       "       [0.03904344, 0.08006408, 0.08111071, ..., 0.05299989, 0.125     ,\n",
       "        1.        ]])"
      ]
     },
     "execution_count": 6,
     "metadata": {},
     "output_type": "execute_result"
    }
   ],
   "source": [
    "# With the BOW Matrix, \n",
    "# we have a pairwise cosine similarity matrix that can be used to descriptions or routes most similar\n",
    "\n",
    "from sklearn.metrics import pairwise_distances\n",
    "from scipy.spatial.distance import cosine\n",
    "pairwise_similarity = 1 - pairwise_distances(bow_matrix, metric = 'cosine')\n",
    "pairwise_similarity"
   ]
  },
  {
   "cell_type": "markdown",
   "id": "36ca5c4e",
   "metadata": {},
   "source": [
    "## Finding Similar Routes\n",
    "Now that we have a similarity matrix, we can append this to the names/indicies of our routes, and provide recommendations based on the similarity scores"
   ]
  },
  {
   "cell_type": "code",
   "execution_count": 80,
   "id": "14ed1ca2",
   "metadata": {},
   "outputs": [],
   "source": [
    "# Lets create a function that takes in a Route Name, and spits out the n most simliar routes.\n",
    "\n",
    "def recommender(route_name, matrix, n_recs):\n",
    "    row_index = df.loc[df['Route'] == route_name].index[0]\n",
    "    n_rec_indices = np.argsort(matrix[row_index])[::-1][1:n_recs+1] \n",
    "    names = []\n",
    "    for i in n_rec_indices:\n",
    "        names.append(df.loc[i, 'Route'])\n",
    "\n",
    "    return names"
   ]
  },
  {
   "cell_type": "code",
   "execution_count": 81,
   "id": "45d3e638",
   "metadata": {},
   "outputs": [
    {
     "data": {
      "text/plain": [
       "['Unnamed V1',\n",
       " 'The Button High',\n",
       " 'Nitwit',\n",
       " 'The Love Machine',\n",
       " 'Nicole Overhang']"
      ]
     },
     "execution_count": 81,
     "metadata": {},
     "output_type": "execute_result"
    }
   ],
   "source": [
    "recommender(\"Chuckawalla 'Yabo' Start\",pairwise_similarity, 5)"
   ]
  },
  {
   "cell_type": "markdown",
   "id": "5d989a5e",
   "metadata": {},
   "source": [
    "Cool, we have a basic recommendation system working now.\n",
    "\n",
    "However, after some exploration, notice that 'Nitwit' is often recommended. Taking a look at the description, Nitwit has a short description with commonly used words to describe routes, which makes it lexically similar to many other descriptions in our dataset. \n",
    "\n",
    "To address this, maybe we need to add other metrics, or attempt to use a different type of similarity measurement. Jaccard index wouln't work well since we run into the same problem with many overlapping words."
   ]
  },
  {
   "cell_type": "code",
   "execution_count": 82,
   "id": "2b5ca020",
   "metadata": {},
   "outputs": [
    {
     "data": {
      "text/html": [
       "<div>\n",
       "<style scoped>\n",
       "    .dataframe tbody tr th:only-of-type {\n",
       "        vertical-align: middle;\n",
       "    }\n",
       "\n",
       "    .dataframe tbody tr th {\n",
       "        vertical-align: top;\n",
       "    }\n",
       "\n",
       "    .dataframe thead th {\n",
       "        text-align: right;\n",
       "    }\n",
       "</style>\n",
       "<table border=\"1\" class=\"dataframe\">\n",
       "  <thead>\n",
       "    <tr style=\"text-align: right;\">\n",
       "      <th></th>\n",
       "      <th>Route</th>\n",
       "      <th>Location</th>\n",
       "      <th>URL</th>\n",
       "      <th>Avg Stars</th>\n",
       "      <th>Your Stars</th>\n",
       "      <th>Route Type</th>\n",
       "      <th>Rating</th>\n",
       "      <th>Pitches</th>\n",
       "      <th>Length</th>\n",
       "      <th>Area Latitude</th>\n",
       "      <th>Area Longitude</th>\n",
       "      <th>Descriptions</th>\n",
       "    </tr>\n",
       "  </thead>\n",
       "  <tbody>\n",
       "    <tr>\n",
       "      <th>94</th>\n",
       "      <td>Nitwit</td>\n",
       "      <td>The Blockhead &gt; JBMF Boulders &gt; Roadside Rocks...</td>\n",
       "      <td>https://www.mountainproject.com/route/10603963...</td>\n",
       "      <td>2.0</td>\n",
       "      <td>-1</td>\n",
       "      <td>Boulder</td>\n",
       "      <td>V0</td>\n",
       "      <td>1</td>\n",
       "      <td>13.0</td>\n",
       "      <td>34.01475</td>\n",
       "      <td>-116.16589</td>\n",
       "      <td>[stand, start, move, left]</td>\n",
       "    </tr>\n",
       "  </tbody>\n",
       "</table>\n",
       "</div>"
      ],
      "text/plain": [
       "     Route                                           Location  \\\n",
       "94  Nitwit  The Blockhead > JBMF Boulders > Roadside Rocks...   \n",
       "\n",
       "                                                  URL  Avg Stars  Your Stars  \\\n",
       "94  https://www.mountainproject.com/route/10603963...        2.0          -1   \n",
       "\n",
       "   Route Type Rating  Pitches  Length  Area Latitude  Area Longitude  \\\n",
       "94    Boulder     V0        1    13.0       34.01475      -116.16589   \n",
       "\n",
       "                  Descriptions  \n",
       "94  [stand, start, move, left]  "
      ]
     },
     "execution_count": 82,
     "metadata": {},
     "output_type": "execute_result"
    }
   ],
   "source": [
    "df[df['Route'] == 'Nitwit']"
   ]
  },
  {
   "cell_type": "markdown",
   "id": "42b1876e",
   "metadata": {},
   "source": [
    "After performing some research, we want a system that places less weight on short texts, so consider the use of TF-IDF\n",
    "\n",
    "Let's go ahead and perform TF-IDF (Term frequency-inverse document frequency) vectorization using the Sci-kit Learn library and again use cosine similarity."
   ]
  },
  {
   "cell_type": "code",
   "execution_count": 83,
   "id": "d09ce80a",
   "metadata": {},
   "outputs": [],
   "source": [
    "# This time, we'll need the descriptions as strings instead of a list of words to help vectorization.\n",
    "\n",
    "df_TFIDF = pd.read_csv('Routes_With_Cleaned_Descriptions.csv')\n",
    "df_TFIDF['Descriptions'] = df_TFIDF['Descriptions'].apply(ast.literal_eval)\n",
    "df_TFIDF['Descriptions'] = df_TFIDF['Descriptions'].apply(lambda x: ' '.join(x))"
   ]
  },
  {
   "cell_type": "code",
   "execution_count": 84,
   "id": "5f9f9859",
   "metadata": {},
   "outputs": [],
   "source": [
    "# Now we can start vectorization\n",
    "from sklearn.feature_extraction.text import TfidfVectorizer\n",
    "from sklearn.metrics.pairwise import cosine_similarity\n",
    "\n",
    "tfidf_vectorizer = TfidfVectorizer(stop_words='english')\n",
    "tfidf_matrix = tfidf_vectorizer.fit_transform(df_TFIDF['Descriptions'])\n",
    "\n",
    "similarity_matrix_tfidf = cosine_similarity(tfidf_matrix)"
   ]
  },
  {
   "cell_type": "code",
   "execution_count": 85,
   "id": "fedbaf01",
   "metadata": {},
   "outputs": [
    {
     "data": {
      "text/plain": [
       "['Medium Chuckie',\n",
       " 'Duncecap Finish',\n",
       " 'Dream Sequence Direct',\n",
       " 'Unknown Slopers',\n",
       " 'The Egg Timer']"
      ]
     },
     "execution_count": 85,
     "metadata": {},
     "output_type": "execute_result"
    }
   ],
   "source": [
    "recommender(\"Chuckawalla 'Yabo' Start\",similarity_matrix_tfidf, 5)"
   ]
  },
  {
   "cell_type": "code",
   "execution_count": 86,
   "id": "51b09458",
   "metadata": {},
   "outputs": [
    {
     "data": {
      "text/plain": [
       "['Unnamed V1',\n",
       " 'The Button High',\n",
       " 'Nitwit',\n",
       " 'The Love Machine',\n",
       " 'Nicole Overhang']"
      ]
     },
     "execution_count": 86,
     "metadata": {},
     "output_type": "execute_result"
    }
   ],
   "source": [
    "recommender(\"Chuckawalla 'Yabo' Start\",pairwise_similarity, 5)"
   ]
  },
  {
   "cell_type": "code",
   "execution_count": 87,
   "id": "b2d10d5d",
   "metadata": {},
   "outputs": [
    {
     "data": {
      "text/plain": [
       "['Nitwit', 'Kranium Left', 'Firefly', 'Hey Ladies V6/7', 'Intersection Mantle']"
      ]
     },
     "execution_count": 87,
     "metadata": {},
     "output_type": "execute_result"
    }
   ],
   "source": [
    "recommender(\"Nicole Overhang\",similarity_matrix_tfidf, 5)"
   ]
  },
  {
   "cell_type": "code",
   "execution_count": 88,
   "id": "b32d03ca",
   "metadata": {},
   "outputs": [
    {
     "data": {
      "text/plain": [
       "['Nitwit', 'Kranium Left', 'Firefly', 'Pistol Whipped', 'Powell Face']"
      ]
     },
     "execution_count": 88,
     "metadata": {},
     "output_type": "execute_result"
    }
   ],
   "source": [
    "recommender(\"Nicole Overhang\",pairwise_similarity, 5)"
   ]
  },
  {
   "cell_type": "markdown",
   "id": "c393813e",
   "metadata": {},
   "source": [
    "Interesting to see that Nicole Overhang has the same results, but Chuckawalla Yabo Start has very different routes.\n",
    "\n",
    "Lets create a dataframe to compare the recommendations given by each method."
   ]
  },
  {
   "cell_type": "code",
   "execution_count": 98,
   "id": "c0b7d43f",
   "metadata": {},
   "outputs": [],
   "source": [
    "# Apply the recommender to each route and compare Bag of Words and TF-IDF cosine similarity\n",
    "\n",
    "rec_table = pd.DataFrame()\n",
    "\n",
    "bow_recs = []\n",
    "TFIDF_recs = []\n",
    "\n",
    "for index, row in df.iterrows():\n",
    "    bow_recs.append(recommender(df['Route'][index], pairwise_similarity, 5))\n",
    "    TFIDF_recs.append(recommender(df['Route'][index], similarity_matrix_tfidf, 5))\n",
    "\n",
    "rec_table['Route'] = df['Route']\n",
    "rec_table['BoW Recs'] = bow_recs\n",
    "rec_table['TF-IDF Recs'] = TFIDF_recs"
   ]
  },
  {
   "cell_type": "code",
   "execution_count": 109,
   "id": "1be7c13b",
   "metadata": {},
   "outputs": [
    {
     "data": {
      "text/html": [
       "<div>\n",
       "<style scoped>\n",
       "    .dataframe tbody tr th:only-of-type {\n",
       "        vertical-align: middle;\n",
       "    }\n",
       "\n",
       "    .dataframe tbody tr th {\n",
       "        vertical-align: top;\n",
       "    }\n",
       "\n",
       "    .dataframe thead th {\n",
       "        text-align: right;\n",
       "    }\n",
       "</style>\n",
       "<table border=\"1\" class=\"dataframe\">\n",
       "  <thead>\n",
       "    <tr style=\"text-align: right;\">\n",
       "      <th></th>\n",
       "      <th>Route</th>\n",
       "      <th>BoW Recs</th>\n",
       "      <th>TF-IDF Recs</th>\n",
       "      <th>Overlap</th>\n",
       "    </tr>\n",
       "  </thead>\n",
       "  <tbody>\n",
       "    <tr>\n",
       "      <th>0</th>\n",
       "      <td>White Rastafarian</td>\n",
       "      <td>[Dream Sequence, The Man Who Smiled, High Noon...</td>\n",
       "      <td>[The Man Who Smiled, Slashface, High Noon, Dre...</td>\n",
       "      <td>4</td>\n",
       "    </tr>\n",
       "    <tr>\n",
       "      <th>1</th>\n",
       "      <td>Slashface</td>\n",
       "      <td>[Ten Fidy, White Rastafarian, Mr. Creosote, Al...</td>\n",
       "      <td>[White Rastafarian, High Noon, Alexandria, Mr....</td>\n",
       "      <td>4</td>\n",
       "    </tr>\n",
       "    <tr>\n",
       "      <th>2</th>\n",
       "      <td>Pigpen</td>\n",
       "      <td>[Street Zen, Sex Magician Sit Start, Dark Matt...</td>\n",
       "      <td>[Street Zen, Sex Magician Sit Start, Dark Matt...</td>\n",
       "      <td>3</td>\n",
       "    </tr>\n",
       "    <tr>\n",
       "      <th>3</th>\n",
       "      <td>JBMFP</td>\n",
       "      <td>[The Hard Way, Ghetto Booty, Jerry's Kids, Tid...</td>\n",
       "      <td>[Friction 101, The Ayatollah of Rock and Rolla...</td>\n",
       "      <td>2</td>\n",
       "    </tr>\n",
       "    <tr>\n",
       "      <th>4</th>\n",
       "      <td>Gunsmoke</td>\n",
       "      <td>[Orbiter, Tush, Night Crawler, Desert Teflon, ...</td>\n",
       "      <td>[The Chube, Driblet, Thingamajig, The Laying o...</td>\n",
       "      <td>0</td>\n",
       "    </tr>\n",
       "    <tr>\n",
       "      <th>...</th>\n",
       "      <td>...</td>\n",
       "      <td>...</td>\n",
       "      <td>...</td>\n",
       "      <td>...</td>\n",
       "    </tr>\n",
       "    <tr>\n",
       "      <th>995</th>\n",
       "      <td>Turnbuckle Left Arete</td>\n",
       "      <td>[Browning Arete, Slap Prow, Afterthought, Doct...</td>\n",
       "      <td>[Slap Prow, Doctor Brown, Dream Sequence, Pixi...</td>\n",
       "      <td>3</td>\n",
       "    </tr>\n",
       "    <tr>\n",
       "      <th>996</th>\n",
       "      <td>Ramp Line</td>\n",
       "      <td>[Unnamed, The Womb, The Bardini Crack (aka: Bl...</td>\n",
       "      <td>[Unnamed, Unnamed, The Bardini Crack (aka: Bla...</td>\n",
       "      <td>2</td>\n",
       "    </tr>\n",
       "    <tr>\n",
       "      <th>997</th>\n",
       "      <td>The Ayatollah of Rock and Rolla</td>\n",
       "      <td>[Pixie Slab Right, Forged in Fire, Footprints,...</td>\n",
       "      <td>[Pixie Slab Right, Winged Assassins, Old Chub,...</td>\n",
       "      <td>5</td>\n",
       "    </tr>\n",
       "    <tr>\n",
       "      <th>998</th>\n",
       "      <td>Dysfunction</td>\n",
       "      <td>[Sign Problem, Lemon, The Mullet, Facet Arete,...</td>\n",
       "      <td>[Bob, The Mullet, The Halfling, The Snows of K...</td>\n",
       "      <td>1</td>\n",
       "    </tr>\n",
       "    <tr>\n",
       "      <th>999</th>\n",
       "      <td>Sawzall Arete</td>\n",
       "      <td>[Discount Dyno, Don't Puss, Elegant Melon (aka...</td>\n",
       "      <td>[Brindle, Elegant Melon (aka  Coke Machine), R...</td>\n",
       "      <td>4</td>\n",
       "    </tr>\n",
       "  </tbody>\n",
       "</table>\n",
       "<p>1000 rows × 4 columns</p>\n",
       "</div>"
      ],
      "text/plain": [
       "                               Route  \\\n",
       "0                  White Rastafarian   \n",
       "1                          Slashface   \n",
       "2                             Pigpen   \n",
       "3                              JBMFP   \n",
       "4                           Gunsmoke   \n",
       "..                               ...   \n",
       "995            Turnbuckle Left Arete   \n",
       "996                        Ramp Line   \n",
       "997  The Ayatollah of Rock and Rolla   \n",
       "998                      Dysfunction   \n",
       "999                    Sawzall Arete   \n",
       "\n",
       "                                              BoW Recs  \\\n",
       "0    [Dream Sequence, The Man Who Smiled, High Noon...   \n",
       "1    [Ten Fidy, White Rastafarian, Mr. Creosote, Al...   \n",
       "2    [Street Zen, Sex Magician Sit Start, Dark Matt...   \n",
       "3    [The Hard Way, Ghetto Booty, Jerry's Kids, Tid...   \n",
       "4    [Orbiter, Tush, Night Crawler, Desert Teflon, ...   \n",
       "..                                                 ...   \n",
       "995  [Browning Arete, Slap Prow, Afterthought, Doct...   \n",
       "996  [Unnamed, The Womb, The Bardini Crack (aka: Bl...   \n",
       "997  [Pixie Slab Right, Forged in Fire, Footprints,...   \n",
       "998  [Sign Problem, Lemon, The Mullet, Facet Arete,...   \n",
       "999  [Discount Dyno, Don't Puss, Elegant Melon (aka...   \n",
       "\n",
       "                                           TF-IDF Recs  Overlap  \n",
       "0    [The Man Who Smiled, Slashface, High Noon, Dre...        4  \n",
       "1    [White Rastafarian, High Noon, Alexandria, Mr....        4  \n",
       "2    [Street Zen, Sex Magician Sit Start, Dark Matt...        3  \n",
       "3    [Friction 101, The Ayatollah of Rock and Rolla...        2  \n",
       "4    [The Chube, Driblet, Thingamajig, The Laying o...        0  \n",
       "..                                                 ...      ...  \n",
       "995  [Slap Prow, Doctor Brown, Dream Sequence, Pixi...        3  \n",
       "996  [Unnamed, Unnamed, The Bardini Crack (aka: Bla...        2  \n",
       "997  [Pixie Slab Right, Winged Assassins, Old Chub,...        5  \n",
       "998  [Bob, The Mullet, The Halfling, The Snows of K...        1  \n",
       "999  [Brindle, Elegant Melon (aka  Coke Machine), R...        4  \n",
       "\n",
       "[1000 rows x 4 columns]"
      ]
     },
     "execution_count": 109,
     "metadata": {},
     "output_type": "execute_result"
    }
   ],
   "source": [
    "# How many overlapping recommendations do we have for each route?\n",
    "from collections import Counter\n",
    "\n",
    "overlap = []\n",
    "for index, row in rec_table.iterrows():\n",
    "    overlap.append(len(set(rec_table['BoW Recs'][index]) & set(rec_table['TF-IDF Recs'][index])))\n",
    "\n",
    "    \n",
    "rec_table['Overlap'] = overlap\n",
    "rec_table"
   ]
  },
  {
   "cell_type": "code",
   "execution_count": 112,
   "id": "50a87962",
   "metadata": {},
   "outputs": [
    {
     "data": {
      "text/plain": [
       "2.0"
      ]
     },
     "execution_count": 112,
     "metadata": {},
     "output_type": "execute_result"
    }
   ],
   "source": [
    "rec_table['Overlap'].median()"
   ]
  },
  {
   "cell_type": "code",
   "execution_count": 113,
   "id": "38093689",
   "metadata": {},
   "outputs": [
    {
     "data": {
      "text/plain": [
       "2.007"
      ]
     },
     "execution_count": 113,
     "metadata": {},
     "output_type": "execute_result"
    }
   ],
   "source": [
    "rec_table['Overlap'].mean()"
   ]
  },
  {
   "cell_type": "code",
   "execution_count": 114,
   "id": "cd63c64c",
   "metadata": {},
   "outputs": [
    {
     "data": {
      "text/html": [
       "<div>\n",
       "<style scoped>\n",
       "    .dataframe tbody tr th:only-of-type {\n",
       "        vertical-align: middle;\n",
       "    }\n",
       "\n",
       "    .dataframe tbody tr th {\n",
       "        vertical-align: top;\n",
       "    }\n",
       "\n",
       "    .dataframe thead th {\n",
       "        text-align: right;\n",
       "    }\n",
       "</style>\n",
       "<table border=\"1\" class=\"dataframe\">\n",
       "  <thead>\n",
       "    <tr style=\"text-align: right;\">\n",
       "      <th></th>\n",
       "      <th>Route</th>\n",
       "      <th>BoW Recs</th>\n",
       "      <th>TF-IDF Recs</th>\n",
       "      <th>Overlap</th>\n",
       "    </tr>\n",
       "  </thead>\n",
       "  <tbody>\n",
       "    <tr>\n",
       "      <th>0</th>\n",
       "      <td>White Rastafarian</td>\n",
       "      <td>[Dream Sequence, The Man Who Smiled, High Noon...</td>\n",
       "      <td>[The Man Who Smiled, Slashface, High Noon, Dre...</td>\n",
       "      <td>4</td>\n",
       "    </tr>\n",
       "    <tr>\n",
       "      <th>1</th>\n",
       "      <td>Slashface</td>\n",
       "      <td>[Ten Fidy, White Rastafarian, Mr. Creosote, Al...</td>\n",
       "      <td>[White Rastafarian, High Noon, Alexandria, Mr....</td>\n",
       "      <td>4</td>\n",
       "    </tr>\n",
       "    <tr>\n",
       "      <th>2</th>\n",
       "      <td>Pigpen</td>\n",
       "      <td>[Street Zen, Sex Magician Sit Start, Dark Matt...</td>\n",
       "      <td>[Street Zen, Sex Magician Sit Start, Dark Matt...</td>\n",
       "      <td>3</td>\n",
       "    </tr>\n",
       "    <tr>\n",
       "      <th>3</th>\n",
       "      <td>JBMFP</td>\n",
       "      <td>[The Hard Way, Ghetto Booty, Jerry's Kids, Tid...</td>\n",
       "      <td>[Friction 101, The Ayatollah of Rock and Rolla...</td>\n",
       "      <td>2</td>\n",
       "    </tr>\n",
       "    <tr>\n",
       "      <th>4</th>\n",
       "      <td>Gunsmoke</td>\n",
       "      <td>[Orbiter, Tush, Night Crawler, Desert Teflon, ...</td>\n",
       "      <td>[The Chube, Driblet, Thingamajig, The Laying o...</td>\n",
       "      <td>0</td>\n",
       "    </tr>\n",
       "    <tr>\n",
       "      <th>5</th>\n",
       "      <td>Stem Gem</td>\n",
       "      <td>[Hensel Face, Interceptor 2, Big Lizard in my ...</td>\n",
       "      <td>[Sorta High, The Palmist, Newton's Law, Northe...</td>\n",
       "      <td>0</td>\n",
       "    </tr>\n",
       "    <tr>\n",
       "      <th>6</th>\n",
       "      <td>Fry Problem</td>\n",
       "      <td>[The Snows of Kilimanjaro, Ziggy, Moral Wastel...</td>\n",
       "      <td>[The Snows of Kilimanjaro, The Halfling, Spud ...</td>\n",
       "      <td>1</td>\n",
       "    </tr>\n",
       "    <tr>\n",
       "      <th>7</th>\n",
       "      <td>False Up 20</td>\n",
       "      <td>[Corner Problem, Silly Putty, Largotot, Capuch...</td>\n",
       "      <td>[Corner Problem, Jerryatric, Crankcase, Shadow...</td>\n",
       "      <td>1</td>\n",
       "    </tr>\n",
       "    <tr>\n",
       "      <th>8</th>\n",
       "      <td>Saturday Night Live</td>\n",
       "      <td>[Old Triangle Classic, Fedora, Retro, Turnbuck...</td>\n",
       "      <td>[High Heeled Sneakers, Unknown, Right Arete, F...</td>\n",
       "      <td>1</td>\n",
       "    </tr>\n",
       "    <tr>\n",
       "      <th>9</th>\n",
       "      <td>The Chube</td>\n",
       "      <td>[Wandering n00b, Interceptor, Little Biglip, P...</td>\n",
       "      <td>[Gunsmoke, Wandering n00b, High Noon, JD half-...</td>\n",
       "      <td>1</td>\n",
       "    </tr>\n",
       "    <tr>\n",
       "      <th>10</th>\n",
       "      <td>Sloper Safari</td>\n",
       "      <td>[Javaman, Meadows Traverse, Kentucky Fried Chr...</td>\n",
       "      <td>[Way of the Weasel, Meadows Traverse, Kentucky...</td>\n",
       "      <td>4</td>\n",
       "    </tr>\n",
       "    <tr>\n",
       "      <th>11</th>\n",
       "      <td>Hobbit Hole Offwidth</td>\n",
       "      <td>[Unnamed V0, Body and Soul, Whole Lotta Nothin...</td>\n",
       "      <td>[Chuckawalla 'Yabo' Start, Unnamed V0, Knuckle...</td>\n",
       "      <td>1</td>\n",
       "    </tr>\n",
       "    <tr>\n",
       "      <th>12</th>\n",
       "      <td>Nicole Overhang</td>\n",
       "      <td>[Nitwit, Kranium Left, Firefly, Pistol Whipped...</td>\n",
       "      <td>[Nitwit, Kranium Left, Firefly, Hey Ladies V6/...</td>\n",
       "      <td>3</td>\n",
       "    </tr>\n",
       "    <tr>\n",
       "      <th>13</th>\n",
       "      <td>Roof Romp</td>\n",
       "      <td>[Lumpy, Fry Problem, Psycho Crack, Scorpion Tr...</td>\n",
       "      <td>[Fry Problem, Crack Line, Scorpion Traverse, F...</td>\n",
       "      <td>3</td>\n",
       "    </tr>\n",
       "    <tr>\n",
       "      <th>14</th>\n",
       "      <td>Illicit Sweetie</td>\n",
       "      <td>[Northeast Corner, Joker, Positron, 2 Face Sku...</td>\n",
       "      <td>[Sweetie Pie (Dragon Scales), Problem B, Unnam...</td>\n",
       "      <td>0</td>\n",
       "    </tr>\n",
       "    <tr>\n",
       "      <th>15</th>\n",
       "      <td>False Hueco Traverse</td>\n",
       "      <td>[Black Streak Dyno, Problem B, Twin Peaks Yabo...</td>\n",
       "      <td>[Black Streak Dyno, Problem B, Snake Charmer, ...</td>\n",
       "      <td>2</td>\n",
       "    </tr>\n",
       "    <tr>\n",
       "      <th>16</th>\n",
       "      <td>Yabo Roof</td>\n",
       "      <td>[Fat Lip SDS, Second crack., Don't Mess with T...</td>\n",
       "      <td>[Second crack., Don't Mess with Texas, Flake D...</td>\n",
       "      <td>5</td>\n",
       "    </tr>\n",
       "    <tr>\n",
       "      <th>17</th>\n",
       "      <td>Caveman</td>\n",
       "      <td>[Ariel's Coprolite, Sex Magician Sit Start, Un...</td>\n",
       "      <td>[Sex Magician Sit Start, Sex Magician, Ariel's...</td>\n",
       "      <td>3</td>\n",
       "    </tr>\n",
       "    <tr>\n",
       "      <th>18</th>\n",
       "      <td>Pinhead</td>\n",
       "      <td>[Classic Thin Crack, Interceptor, Alfalfa, Bal...</td>\n",
       "      <td>[Upsidedown Pineapple, Classic Thin Crack, The...</td>\n",
       "      <td>1</td>\n",
       "    </tr>\n",
       "    <tr>\n",
       "      <th>19</th>\n",
       "      <td>Classic Thin Crack</td>\n",
       "      <td>[Dreaming of the Master, Unnamed, Beginners Cr...</td>\n",
       "      <td>[Dreaming of the Master, Right Arete, Beginner...</td>\n",
       "      <td>2</td>\n",
       "    </tr>\n",
       "  </tbody>\n",
       "</table>\n",
       "</div>"
      ],
      "text/plain": [
       "                   Route                                           BoW Recs  \\\n",
       "0      White Rastafarian  [Dream Sequence, The Man Who Smiled, High Noon...   \n",
       "1              Slashface  [Ten Fidy, White Rastafarian, Mr. Creosote, Al...   \n",
       "2                 Pigpen  [Street Zen, Sex Magician Sit Start, Dark Matt...   \n",
       "3                  JBMFP  [The Hard Way, Ghetto Booty, Jerry's Kids, Tid...   \n",
       "4               Gunsmoke  [Orbiter, Tush, Night Crawler, Desert Teflon, ...   \n",
       "5               Stem Gem  [Hensel Face, Interceptor 2, Big Lizard in my ...   \n",
       "6            Fry Problem  [The Snows of Kilimanjaro, Ziggy, Moral Wastel...   \n",
       "7            False Up 20  [Corner Problem, Silly Putty, Largotot, Capuch...   \n",
       "8    Saturday Night Live  [Old Triangle Classic, Fedora, Retro, Turnbuck...   \n",
       "9              The Chube  [Wandering n00b, Interceptor, Little Biglip, P...   \n",
       "10         Sloper Safari  [Javaman, Meadows Traverse, Kentucky Fried Chr...   \n",
       "11  Hobbit Hole Offwidth  [Unnamed V0, Body and Soul, Whole Lotta Nothin...   \n",
       "12       Nicole Overhang  [Nitwit, Kranium Left, Firefly, Pistol Whipped...   \n",
       "13             Roof Romp  [Lumpy, Fry Problem, Psycho Crack, Scorpion Tr...   \n",
       "14       Illicit Sweetie  [Northeast Corner, Joker, Positron, 2 Face Sku...   \n",
       "15  False Hueco Traverse  [Black Streak Dyno, Problem B, Twin Peaks Yabo...   \n",
       "16             Yabo Roof  [Fat Lip SDS, Second crack., Don't Mess with T...   \n",
       "17               Caveman  [Ariel's Coprolite, Sex Magician Sit Start, Un...   \n",
       "18               Pinhead  [Classic Thin Crack, Interceptor, Alfalfa, Bal...   \n",
       "19    Classic Thin Crack  [Dreaming of the Master, Unnamed, Beginners Cr...   \n",
       "\n",
       "                                          TF-IDF Recs  Overlap  \n",
       "0   [The Man Who Smiled, Slashface, High Noon, Dre...        4  \n",
       "1   [White Rastafarian, High Noon, Alexandria, Mr....        4  \n",
       "2   [Street Zen, Sex Magician Sit Start, Dark Matt...        3  \n",
       "3   [Friction 101, The Ayatollah of Rock and Rolla...        2  \n",
       "4   [The Chube, Driblet, Thingamajig, The Laying o...        0  \n",
       "5   [Sorta High, The Palmist, Newton's Law, Northe...        0  \n",
       "6   [The Snows of Kilimanjaro, The Halfling, Spud ...        1  \n",
       "7   [Corner Problem, Jerryatric, Crankcase, Shadow...        1  \n",
       "8   [High Heeled Sneakers, Unknown, Right Arete, F...        1  \n",
       "9   [Gunsmoke, Wandering n00b, High Noon, JD half-...        1  \n",
       "10  [Way of the Weasel, Meadows Traverse, Kentucky...        4  \n",
       "11  [Chuckawalla 'Yabo' Start, Unnamed V0, Knuckle...        1  \n",
       "12  [Nitwit, Kranium Left, Firefly, Hey Ladies V6/...        3  \n",
       "13  [Fry Problem, Crack Line, Scorpion Traverse, F...        3  \n",
       "14  [Sweetie Pie (Dragon Scales), Problem B, Unnam...        0  \n",
       "15  [Black Streak Dyno, Problem B, Snake Charmer, ...        2  \n",
       "16  [Second crack., Don't Mess with Texas, Flake D...        5  \n",
       "17  [Sex Magician Sit Start, Sex Magician, Ariel's...        3  \n",
       "18  [Upsidedown Pineapple, Classic Thin Crack, The...        1  \n",
       "19  [Dreaming of the Master, Right Arete, Beginner...        2  "
      ]
     },
     "execution_count": 114,
     "metadata": {},
     "output_type": "execute_result"
    }
   ],
   "source": [
    "rec_table.head(20)"
   ]
  },
  {
   "cell_type": "markdown",
   "id": "74220744",
   "metadata": {},
   "source": [
    "### Conclusion\n",
    "\n",
    "Now we have a basic recommendation system based off of descriptions of each climb\n",
    "\n",
    "We used Cosine Similarity as our base method, but prepared our data in two different ways: Bag of Words, and TF-IDF vectorizing.\n",
    "\n",
    "After manually comparing some of the route recommendation, we can find that some may be good fits, but it is difficult to measure how helpful the recommendations are without community opinions."
   ]
  }
 ],
 "metadata": {
  "kernelspec": {
   "display_name": "Python 3",
   "language": "python",
   "name": "python3"
  },
  "language_info": {
   "codemirror_mode": {
    "name": "ipython",
    "version": 3
   },
   "file_extension": ".py",
   "mimetype": "text/x-python",
   "name": "python",
   "nbconvert_exporter": "python",
   "pygments_lexer": "ipython3",
   "version": "3.8.8"
  }
 },
 "nbformat": 4,
 "nbformat_minor": 5
}
