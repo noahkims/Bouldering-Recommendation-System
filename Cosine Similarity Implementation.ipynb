{
 "cells": [
  {
   "cell_type": "markdown",
   "id": "c080b914",
   "metadata": {},
   "source": [
    "## Cosine Similarity\n",
    "\n",
    "Taking a look at this article (https://www.newscatcherapi.com/blog/ultimate-guide-to-text-similarity-with-python), it seems that consine similarity is a good choice for comparing our route descriptions.\n",
    "\n",
    "Since the length of our descriptions are varying, cosine similarity seems to be the least sensitive to text length.\n",
    "Additionally, Jaccard Index relies on specific vocabulary being similar, and Euclidean Distance is more sensitive to repetition of words.\n",
    "\n",
    "Since we have our descriptions as a set of strings, "
   ]
  },
  {
   "cell_type": "code",
   "execution_count": 37,
   "id": "974d45cd",
   "metadata": {},
   "outputs": [],
   "source": [
    "import pandas as pd\n",
    "import numpy as np\n",
    "import csv\n",
    "import ast"
   ]
  },
  {
   "cell_type": "code",
   "execution_count": 67,
   "id": "a23faf5c",
   "metadata": {},
   "outputs": [
    {
     "data": {
      "text/html": [
       "<div>\n",
       "<style scoped>\n",
       "    .dataframe tbody tr th:only-of-type {\n",
       "        vertical-align: middle;\n",
       "    }\n",
       "\n",
       "    .dataframe tbody tr th {\n",
       "        vertical-align: top;\n",
       "    }\n",
       "\n",
       "    .dataframe thead th {\n",
       "        text-align: right;\n",
       "    }\n",
       "</style>\n",
       "<table border=\"1\" class=\"dataframe\">\n",
       "  <thead>\n",
       "    <tr style=\"text-align: right;\">\n",
       "      <th></th>\n",
       "      <th>Route</th>\n",
       "      <th>Location</th>\n",
       "      <th>URL</th>\n",
       "      <th>Avg Stars</th>\n",
       "      <th>Your Stars</th>\n",
       "      <th>Route Type</th>\n",
       "      <th>Rating</th>\n",
       "      <th>Pitches</th>\n",
       "      <th>Length</th>\n",
       "      <th>Area Latitude</th>\n",
       "      <th>Area Longitude</th>\n",
       "      <th>Descriptions</th>\n",
       "    </tr>\n",
       "  </thead>\n",
       "  <tbody>\n",
       "    <tr>\n",
       "      <th>0</th>\n",
       "      <td>White Rastafarian</td>\n",
       "      <td>White Rastafarian Boulder &gt; Outback Bouldering...</td>\n",
       "      <td>https://www.mountainproject.com/route/10572259...</td>\n",
       "      <td>3.9</td>\n",
       "      <td>-1</td>\n",
       "      <td>Boulder</td>\n",
       "      <td>V2 R</td>\n",
       "      <td>1</td>\n",
       "      <td>20.0</td>\n",
       "      <td>34.02073</td>\n",
       "      <td>-116.16212</td>\n",
       "      <td>[problem, locat, larg, boulder, southeast, end...</td>\n",
       "    </tr>\n",
       "    <tr>\n",
       "      <th>1</th>\n",
       "      <td>Slashface</td>\n",
       "      <td>Slash Boulder &gt; Western Belt &gt; Geology Tour Ro...</td>\n",
       "      <td>https://www.mountainproject.com/route/10572275...</td>\n",
       "      <td>3.9</td>\n",
       "      <td>-1</td>\n",
       "      <td>Boulder</td>\n",
       "      <td>V3 R</td>\n",
       "      <td>1</td>\n",
       "      <td>25.0</td>\n",
       "      <td>33.95344</td>\n",
       "      <td>-116.08706</td>\n",
       "      <td>[anoth, joshua, tree, finest, boulder, problem...</td>\n",
       "    </tr>\n",
       "    <tr>\n",
       "      <th>2</th>\n",
       "      <td>Pigpen</td>\n",
       "      <td>Pigpen Boulder &gt; Manx Boulders Circuit &gt; Manx/...</td>\n",
       "      <td>https://www.mountainproject.com/route/10572299...</td>\n",
       "      <td>3.9</td>\n",
       "      <td>-1</td>\n",
       "      <td>Boulder</td>\n",
       "      <td>V4</td>\n",
       "      <td>1</td>\n",
       "      <td>10.0</td>\n",
       "      <td>34.01530</td>\n",
       "      <td>-116.15811</td>\n",
       "      <td>[behind, cyclop, rock, awesom, boulder, proble...</td>\n",
       "    </tr>\n",
       "  </tbody>\n",
       "</table>\n",
       "</div>"
      ],
      "text/plain": [
       "               Route                                           Location  \\\n",
       "0  White Rastafarian  White Rastafarian Boulder > Outback Bouldering...   \n",
       "1          Slashface  Slash Boulder > Western Belt > Geology Tour Ro...   \n",
       "2             Pigpen  Pigpen Boulder > Manx Boulders Circuit > Manx/...   \n",
       "\n",
       "                                                 URL  Avg Stars  Your Stars  \\\n",
       "0  https://www.mountainproject.com/route/10572259...        3.9          -1   \n",
       "1  https://www.mountainproject.com/route/10572275...        3.9          -1   \n",
       "2  https://www.mountainproject.com/route/10572299...        3.9          -1   \n",
       "\n",
       "  Route Type Rating  Pitches  Length  Area Latitude  Area Longitude  \\\n",
       "0    Boulder   V2 R        1    20.0       34.02073      -116.16212   \n",
       "1    Boulder   V3 R        1    25.0       33.95344      -116.08706   \n",
       "2    Boulder     V4        1    10.0       34.01530      -116.15811   \n",
       "\n",
       "                                        Descriptions  \n",
       "0  [problem, locat, larg, boulder, southeast, end...  \n",
       "1  [anoth, joshua, tree, finest, boulder, problem...  \n",
       "2  [behind, cyclop, rock, awesom, boulder, proble...  "
      ]
     },
     "execution_count": 67,
     "metadata": {},
     "output_type": "execute_result"
    }
   ],
   "source": [
    "# Converting to CSV\n",
    "df = pd.read_csv('Routes_With_Cleaned_Descriptions.csv')\n",
    "df['Descriptions'] = df['Descriptions'].apply(ast.literal_eval)\n",
    "df.head(3)"
   ]
  },
  {
   "cell_type": "code",
   "execution_count": 75,
   "id": "ffe1f290",
   "metadata": {},
   "outputs": [],
   "source": [
    "# Lets create a Bag of Words vector for each row, or a matrix for the whole dataset.\n",
    "\n",
    "# Initialize an empty set for the vocabulary\n",
    "vocabulary = set()\n",
    "\n",
    "# Build the vocabulary\n",
    "for sentence in df['Descriptions']:\n",
    "    vocabulary.update(sentence)\n",
    "\n",
    "# Convert to a sorted list\n",
    "vocabulary = sorted(list(vocabulary))"
   ]
  },
  {
   "cell_type": "code",
   "execution_count": 83,
   "id": "7946c4e1",
   "metadata": {},
   "outputs": [],
   "source": [
    "def create_bow_vector(sentence, vocab):\n",
    "    vector = [0] * len(vocab)  # Initialize a vector of zeros\n",
    "    for word in sentence:\n",
    "        if word in vocab:\n",
    "            idx = vocab.index(word)  # Find the index of the word in the vocabulary\n",
    "            vector[idx] += 1  # Increment the count at that index\n",
    "    return vector\n",
    "\n",
    "bow_matrix = [create_bow_vector(sentence, vocabulary) for sentence in df['Descriptions']]"
   ]
  },
  {
   "cell_type": "code",
   "execution_count": 84,
   "id": "0e1eebc4",
   "metadata": {},
   "outputs": [
    {
     "data": {
      "text/plain": [
       "array([[1.        , 0.37511724, 0.12667365, ..., 0.33108771, 0.        ,\n",
       "        0.03904344],\n",
       "       [0.37511724, 1.        , 0.20780973, ..., 0.22065615, 0.        ,\n",
       "        0.08006408],\n",
       "       [0.12667365, 0.20780973, 1.        , ..., 0.15475893, 0.08111071,\n",
       "        0.08111071],\n",
       "       ...,\n",
       "       [0.33108771, 0.22065615, 0.15475893, ..., 1.        , 0.05299989,\n",
       "        0.05299989],\n",
       "       [0.        , 0.        , 0.08111071, ..., 0.05299989, 1.        ,\n",
       "        0.125     ],\n",
       "       [0.03904344, 0.08006408, 0.08111071, ..., 0.05299989, 0.125     ,\n",
       "        1.        ]])"
      ]
     },
     "execution_count": 84,
     "metadata": {},
     "output_type": "execute_result"
    }
   ],
   "source": [
    "# With the BOW Matrix, \n",
    "# we have a pairwise cosine similarity matrix that can be used to descriptions or routes most similar\n",
    "\n",
    "from sklearn.metrics import pairwise_distances\n",
    "from scipy.spatial.distance import cosine\n",
    "pairwise_similarity = 1 - pairwise_distances(bow_matrix, metric = 'cosine')\n",
    "pairwise_similarity"
   ]
  },
  {
   "cell_type": "markdown",
   "id": "e717db7a",
   "metadata": {},
   "source": [
    "## Finding Similar Routes\n",
    "Now that we have a similarity matrix, we can append this to the names/indicies of our routes, and provide recommendations based on the similarity scores"
   ]
  },
  {
   "cell_type": "code",
   "execution_count": 149,
   "id": "bc42a06c",
   "metadata": {},
   "outputs": [],
   "source": [
    "# Lets create a function that takes in a Route Name, and spits out the n most simliar routes.\n",
    "\n",
    "def recommender(route_name, n_recs):\n",
    "    row_index = df.loc[df['Route'] == route_name].index[0]\n",
    "    n_rec_indices = np.argsort(pairwise_similarity[row_index])[::-1][1:n_recs+1] \n",
    "    print(n_rec_indices)\n",
    "    print(pairwise_similarity[row_index][n_rec_indices])\n",
    "    names = []\n",
    "    for i in n_rec_indices:\n",
    "        names.append(df.loc[i, 'Route'])\n",
    "\n",
    "    return names"
   ]
  },
  {
   "cell_type": "code",
   "execution_count": 152,
   "id": "f932de87",
   "metadata": {},
   "outputs": [
    {
     "name": "stdout",
     "output_type": "stream",
     "text": [
      "[601 294  94 284  12]\n",
      "[0.57535596 0.55749852 0.55708601 0.51994695 0.51994695]\n"
     ]
    },
    {
     "data": {
      "text/plain": [
       "['Unnamed V1',\n",
       " 'The Button High',\n",
       " 'Nitwit',\n",
       " 'The Love Machine',\n",
       " 'Nicole Overhang']"
      ]
     },
     "execution_count": 152,
     "metadata": {},
     "output_type": "execute_result"
    }
   ],
   "source": [
    "recommender(\"Chuckawalla 'Yabo' Start\", 5)"
   ]
  },
  {
   "cell_type": "markdown",
   "id": "e4240b5d",
   "metadata": {},
   "source": [
    "Cool, we have a basic recommendation system working now.\n",
    "\n",
    "However, after some exploration, notice that 'Nitwit' is often recommended. Taking a look at the description, Nitwit has a short description with commonly used words to describe routes, which makes it lexically similar to many other descriptions in our dataset. \n",
    "\n",
    "To address this, maybe we need to add other metrics, or attempt to use a different type of similarity measurement. Jaccard index wouln't work well since we run into the same problem with many overlapping words."
   ]
  },
  {
   "cell_type": "code",
   "execution_count": 156,
   "id": "8424bd3a",
   "metadata": {},
   "outputs": [
    {
     "data": {
      "text/html": [
       "<div>\n",
       "<style scoped>\n",
       "    .dataframe tbody tr th:only-of-type {\n",
       "        vertical-align: middle;\n",
       "    }\n",
       "\n",
       "    .dataframe tbody tr th {\n",
       "        vertical-align: top;\n",
       "    }\n",
       "\n",
       "    .dataframe thead th {\n",
       "        text-align: right;\n",
       "    }\n",
       "</style>\n",
       "<table border=\"1\" class=\"dataframe\">\n",
       "  <thead>\n",
       "    <tr style=\"text-align: right;\">\n",
       "      <th></th>\n",
       "      <th>Route</th>\n",
       "      <th>Location</th>\n",
       "      <th>URL</th>\n",
       "      <th>Avg Stars</th>\n",
       "      <th>Your Stars</th>\n",
       "      <th>Route Type</th>\n",
       "      <th>Rating</th>\n",
       "      <th>Pitches</th>\n",
       "      <th>Length</th>\n",
       "      <th>Area Latitude</th>\n",
       "      <th>Area Longitude</th>\n",
       "      <th>Descriptions</th>\n",
       "    </tr>\n",
       "  </thead>\n",
       "  <tbody>\n",
       "    <tr>\n",
       "      <th>94</th>\n",
       "      <td>Nitwit</td>\n",
       "      <td>The Blockhead &gt; JBMF Boulders &gt; Roadside Rocks...</td>\n",
       "      <td>https://www.mountainproject.com/route/10603963...</td>\n",
       "      <td>2.0</td>\n",
       "      <td>-1</td>\n",
       "      <td>Boulder</td>\n",
       "      <td>V0</td>\n",
       "      <td>1</td>\n",
       "      <td>13.0</td>\n",
       "      <td>34.01475</td>\n",
       "      <td>-116.16589</td>\n",
       "      <td>[stand, start, move, left]</td>\n",
       "    </tr>\n",
       "  </tbody>\n",
       "</table>\n",
       "</div>"
      ],
      "text/plain": [
       "     Route                                           Location  \\\n",
       "94  Nitwit  The Blockhead > JBMF Boulders > Roadside Rocks...   \n",
       "\n",
       "                                                  URL  Avg Stars  Your Stars  \\\n",
       "94  https://www.mountainproject.com/route/10603963...        2.0          -1   \n",
       "\n",
       "   Route Type Rating  Pitches  Length  Area Latitude  Area Longitude  \\\n",
       "94    Boulder     V0        1    13.0       34.01475      -116.16589   \n",
       "\n",
       "                  Descriptions  \n",
       "94  [stand, start, move, left]  "
      ]
     },
     "execution_count": 156,
     "metadata": {},
     "output_type": "execute_result"
    }
   ],
   "source": [
    "df[df['Route'] == 'Nitwit']"
   ]
  }
 ],
 "metadata": {
  "kernelspec": {
   "display_name": "Python 3",
   "language": "python",
   "name": "python3"
  },
  "language_info": {
   "codemirror_mode": {
    "name": "ipython",
    "version": 3
   },
   "file_extension": ".py",
   "mimetype": "text/x-python",
   "name": "python",
   "nbconvert_exporter": "python",
   "pygments_lexer": "ipython3",
   "version": "3.8.8"
  }
 },
 "nbformat": 4,
 "nbformat_minor": 5
}
